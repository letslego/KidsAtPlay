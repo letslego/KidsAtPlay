{
 "cells": [
  {
   "cell_type": "markdown",
   "metadata": {},
   "source": [
    "# Load Packages, Functions, and Data"
   ]
  },
  {
   "cell_type": "code",
   "execution_count": 1,
   "metadata": {
    "collapsed": false
   },
   "outputs": [
    {
     "name": "stderr",
     "output_type": "stream",
     "text": [
      "Warning message:\n",
      "\"package 'lmtest' was built under R version 3.3.3\"Loading required package: zoo\n",
      "\n",
      "Attaching package: 'zoo'\n",
      "\n",
      "The following objects are masked from 'package:base':\n",
      "\n",
      "    as.Date, as.Date.numeric\n",
      "\n",
      "Warning message:\n",
      "\"package 'sandwich' was built under R version 3.3.3\"Warning message:\n",
      "\"package 'multiwayvcov' was built under R version 3.3.3\"\n",
      "Please cite as: \n",
      "\n",
      " Hlavac, Marek (2015). stargazer: Well-Formatted Regression and Summary Statistics Tables.\n",
      " R package version 5.2. http://CRAN.R-project.org/package=stargazer \n",
      "\n"
     ]
    }
   ],
   "source": [
    "# load packages \n",
    "library(data.table)\n",
    "library(foreign)\n",
    "library(lmtest)\n",
    "library(sandwich)\n",
    "library(multiwayvcov)\n",
    "library(stargazer)"
   ]
  },
  {
   "cell_type": "code",
   "execution_count": 2,
   "metadata": {
    "collapsed": false
   },
   "outputs": [],
   "source": [
    "robust.ci <- function(model, se.type = \"HC3\") {\n",
    "    require(sandwich)\n",
    "    if(se.type %in%c(\"HC1\", \"HC2\", \"HC3\")) {\n",
    "        ses <-sqrt(diag(vcovHC(model, type = se.type)))\n",
    "    } else if(se.type == \"cluster\") {\n",
    "        ses <-sqrt(diag(cluster.vcov(model, ~ Cluster)))\n",
    "    }\n",
    "    \n",
    "    df =summary(model)$df[2]\n",
    "    t.stat =qt(p = 0.975, df = df, lower.tail = TRUE)\n",
    "    ci.lower =as.numeric(round(coef(model) - 1.96 * ses, 2))\n",
    "    ci.upper =as.numeric(round(coef(model) + 1.96 * ses, 2))\n",
    "    return(list(\n",
    "        point.estimates =coef(model),\n",
    "        ci =paste0(\"[\", ci.lower, \",\", ci.upper, \"]\")\n",
    "    ))\n",
    "        }"
   ]
  },
  {
   "cell_type": "code",
   "execution_count": 3,
   "metadata": {
    "collapsed": true
   },
   "outputs": [],
   "source": [
    "d <- read.csv(\"..\\\\data\\\\Slow_Kids_Data_Collection_Blocks.csv\", header = TRUE)"
   ]
  },
  {
   "cell_type": "markdown",
   "metadata": {},
   "source": [
    "# Data Exploration"
   ]
  },
  {
   "cell_type": "code",
   "execution_count": 4,
   "metadata": {
    "collapsed": false,
    "scrolled": true
   },
   "outputs": [
    {
     "data": {
      "text/plain": [
       "     Speed         Direction     Treatment         SameSide     \n",
       " Min.   :15.00   S      :150   Min.   :0.0000   Min.   :0.0000  \n",
       " 1st Qu.:24.00   N      :113   1st Qu.:0.0000   1st Qu.:0.0000  \n",
       " Median :27.00   w      :106   Median :1.0000   Median :1.0000  \n",
       " Mean   :27.05   e      : 85   Mean   :0.5093   Mean   :0.5222  \n",
       " 3rd Qu.:30.00   W      : 69   3rd Qu.:1.0000   3rd Qu.:1.0000  \n",
       " Max.   :44.00   E      : 65   Max.   :1.0000   Max.   :1.0000  \n",
       "                 (Other):111                                    \n",
       "    Children        Pedestrians         Hour      Visibility  Location\n",
       " Min.   :0.00000   Min.   :0.000   Min.   :1400   Clear:699   A:111   \n",
       " 1st Qu.:0.00000   1st Qu.:0.000   1st Qu.:1500               B:191   \n",
       " Median :0.00000   Median :0.000   Median :1520               C: 48   \n",
       " Mean   :0.01431   Mean   :0.186   Mean   :1577               D:104   \n",
       " 3rd Qu.:0.00000   3rd Qu.:0.000   3rd Qu.:1700               E:159   \n",
       " Max.   :1.00000   Max.   :1.000   Max.   :1940               F: 86   \n",
       "                                                                      \n",
       "        Date       DayofWeek          Observer   Direction2 ReformattedDate\n",
       " 7/1/2017 :111   Min.   :1.000   Amit     :245   e:150      Min.   :701.0  \n",
       " 7/17/2017: 48   1st Qu.:1.000   Scott    :302   n:167      1st Qu.:709.0  \n",
       " 7/18/2017:104   Median :7.000   Stephanie:152   s:207      Median :717.0  \n",
       " 7/22/2017:245   Mean   :4.422                   w:175      Mean   :714.2  \n",
       " 7/9/2017 :191   3rd Qu.:7.000                              3rd Qu.:722.0  \n",
       "                 Max.   :7.000                              Max.   :722.0  \n",
       "                                                                           \n",
       " CityID               Cluster               Block    \n",
       " CA:152   OR-B-0709-1400-1: 54   OR-B-0709-1500:104  \n",
       " NJ:245   OR-B-0709-1500-1: 54   OR-B-0709-1400: 87  \n",
       " OR:302   OR-B-0709-1500-0: 50   OR-A-0701-1400: 62  \n",
       "          OR-A-0701-1400-1: 37   NJ-E-0722-1600: 50  \n",
       "          NJ-E-0722-1600-0: 35   OR-A-0701-1500: 49  \n",
       "          OR-B-0709-1400-0: 33   NJ-E-0722-1500: 45  \n",
       "          (Other)         :436   (Other)       :302  "
      ]
     },
     "metadata": {},
     "output_type": "display_data"
    }
   ],
   "source": [
    "#Explore the data\n",
    "summary(d)"
   ]
  },
  {
   "cell_type": "markdown",
   "metadata": {},
   "source": [
    "# Covariate Balance Check"
   ]
  },
  {
   "cell_type": "code",
   "execution_count": 5,
   "metadata": {
    "collapsed": false
   },
   "outputs": [
    {
     "data": {
      "text/plain": [
       "\n",
       "Call:\n",
       "lm(formula = d$Treatment ~ 1 + d$Direction2 + d$Block + d$SameSide + \n",
       "    d$Children + d$Pedestrians + as.factor(d$DayofWeek))\n",
       "\n",
       "Residuals:\n",
       "    Min      1Q  Median      3Q     Max \n",
       "-0.8734 -0.4660  0.1266  0.4401  0.8742 \n",
       "\n",
       "Coefficients: (4 not defined because of singularities)\n",
       "                        Estimate Std. Error t value Pr(>|t|)    \n",
       "(Intercept)              0.42047    0.09765   4.306 1.91e-05 ***\n",
       "d$Direction2n            0.10468    0.12162   0.861  0.38968    \n",
       "d$Direction2s            0.06581    0.12144   0.542  0.58802    \n",
       "d$Direction2w            0.11724    0.05613   2.089  0.03711 *  \n",
       "d$BlockCA-C-0717-1940   -0.02038    0.14537  -0.140  0.88857    \n",
       "d$BlockCA-D-0718-1710    0.01175    0.13156   0.089  0.92886    \n",
       "d$BlockCA-D-0718-1740    0.06508    0.11418   0.570  0.56889    \n",
       "d$BlockCA-D-0718-1810   -0.25277    0.13187  -1.917  0.05569 .  \n",
       "d$BlockCA-D-0718-1840    0.03152    0.11993   0.263  0.79278    \n",
       "d$BlockCA-D-0718-1910   -0.03574    0.13795  -0.259  0.79563    \n",
       "d$BlockNJ-E-0722-1500   -0.12740    0.10262  -1.241  0.21487    \n",
       "d$BlockNJ-E-0722-1520   -0.30849    0.11183  -2.758  0.00596 ** \n",
       "d$BlockNJ-E-0722-1540    0.33338    0.10778   3.093  0.00206 ** \n",
       "d$BlockNJ-E-0722-1600   -0.17687    0.09719  -1.820  0.06922 .  \n",
       "d$BlockNJ-F-0722-1620    0.35908    0.13040   2.754  0.00605 ** \n",
       "d$BlockNJ-F-0722-1640    0.31108    0.12262   2.537  0.01141 *  \n",
       "d$BlockNJ-F-0722-1700   -0.17773    0.13213  -1.345  0.17905    \n",
       "d$BlockOR-A-0701-1400    0.10677    0.09133   1.169  0.24277    \n",
       "d$BlockOR-A-0701-1500         NA         NA      NA       NA    \n",
       "d$BlockOR-B-0709-1400    0.14951    0.10636   1.406  0.16030    \n",
       "d$BlockOR-B-0709-1500    0.04551    0.10438   0.436  0.66299    \n",
       "d$SameSide              -0.02337    0.03865  -0.605  0.54566    \n",
       "d$Children               0.14128    0.16577   0.852  0.39436    \n",
       "d$Pedestrians           -0.05204    0.05307  -0.981  0.32714    \n",
       "as.factor(d$DayofWeek)2       NA         NA      NA       NA    \n",
       "as.factor(d$DayofWeek)3       NA         NA      NA       NA    \n",
       "as.factor(d$DayofWeek)7       NA         NA      NA       NA    \n",
       "---\n",
       "Signif. codes:  0 '***' 0.001 '**' 0.01 '*' 0.05 '.' 0.1 ' ' 1\n",
       "\n",
       "Residual standard error: 0.4769 on 676 degrees of freedom\n",
       "Multiple R-squared:  0.1199,\tAdjusted R-squared:  0.09126 \n",
       "F-statistic: 4.186 on 22 and 676 DF,  p-value: 8.747e-10\n"
      ]
     },
     "metadata": {},
     "output_type": "display_data"
    }
   ],
   "source": [
    "# check if our randomization worked\n",
    "no_cov <-lm(d$Treatment ~ 1, data = d)\n",
    "cov_check <- lm(d$Treatment ~ 1 + d$Direction2 + d$Block + d$SameSide + d$Children + d$Pedestrians + as.factor(d$DayofWeek))\n",
    "\n",
    "summary(cov_check)"
   ]
  },
  {
   "cell_type": "code",
   "execution_count": 6,
   "metadata": {
    "collapsed": false
   },
   "outputs": [
    {
     "data": {
      "text/html": [
       "<table>\n",
       "<thead><tr><th scope=col>Res.Df</th><th scope=col>RSS</th><th scope=col>Df</th><th scope=col>Sum of Sq</th><th scope=col>Pr(&gt;Chi)</th></tr></thead>\n",
       "<tbody>\n",
       "\t<tr><td>698         </td><td>174.6896    </td><td>NA          </td><td>      NA    </td><td>          NA</td></tr>\n",
       "\t<tr><td>676         </td><td>153.7438    </td><td>22          </td><td>20.94572    </td><td>1.503258e-10</td></tr>\n",
       "</tbody>\n",
       "</table>\n"
      ],
      "text/latex": [
       "\\begin{tabular}{r|lllll}\n",
       " Res.Df & RSS & Df & Sum of Sq & Pr(>Chi)\\\\\n",
       "\\hline\n",
       "\t 698          & 174.6896     & NA           &       NA     &           NA\\\\\n",
       "\t 676          & 153.7438     & 22           & 20.94572     & 1.503258e-10\\\\\n",
       "\\end{tabular}\n"
      ],
      "text/markdown": [
       "\n",
       "Res.Df | RSS | Df | Sum of Sq | Pr(>Chi) | \n",
       "|---|---|\n",
       "| 698          | 174.6896     | NA           |       NA     |           NA | \n",
       "| 676          | 153.7438     | 22           | 20.94572     | 1.503258e-10 | \n",
       "\n",
       "\n"
      ],
      "text/plain": [
       "  Res.Df RSS      Df Sum of Sq Pr(>Chi)    \n",
       "1 698    174.6896 NA       NA            NA\n",
       "2 676    153.7438 22 20.94572  1.503258e-10"
      ]
     },
     "metadata": {},
     "output_type": "display_data"
    }
   ],
   "source": [
    "anova(no_cov, cov_check, test = \"LRT\")"
   ]
  },
  {
   "cell_type": "markdown",
   "metadata": {},
   "source": [
    "It looks like certain blocks may indicate an imbalance in randomization. What's going on in these blocks?"
   ]
  },
  {
   "cell_type": "code",
   "execution_count": 7,
   "metadata": {
    "collapsed": false,
    "scrolled": true
   },
   "outputs": [
    {
     "data": {
      "text/plain": [
       "\n",
       " 0  1 \n",
       "26  5 "
      ]
     },
     "metadata": {},
     "output_type": "display_data"
    },
    {
     "data": {
      "text/plain": [
       "\n",
       " 0  1 \n",
       " 6 27 "
      ]
     },
     "metadata": {},
     "output_type": "display_data"
    },
    {
     "data": {
      "text/plain": [
       "\n",
       " 0  1 \n",
       " 5 22 "
      ]
     },
     "metadata": {},
     "output_type": "display_data"
    },
    {
     "data": {
      "text/plain": [
       "\n",
       " 0  1 \n",
       " 8 26 "
      ]
     },
     "metadata": {},
     "output_type": "display_data"
    }
   ],
   "source": [
    "# check distribution of treatment vs control for significant blocks\n",
    "table(d$Treatment[d$Block == \"NJ-E-0722-1520\"])\n",
    "table(d$Treatment[d$Block == \"NJ-E-0722-1540\"])\n",
    "table(d$Treatment[d$Block == \"NJ-F-0722-1620\"])\n",
    "table(d$Treatment[d$Block == \"NJ-F-0722-1640\"])"
   ]
  },
  {
   "cell_type": "markdown",
   "metadata": {},
   "source": [
    "While it's true that these blocks are pretty imbalanced, because we are using clusters, which should take care of accounting for the differences in std dev, this is likely not an issue.\n",
    "\n",
    "Note that our direction West also has the same issue, but directions are also loosely linked to each location (and thereby each block), so the same justification should work."
   ]
  },
  {
   "cell_type": "code",
   "execution_count": 21,
   "metadata": {
    "collapsed": false
   },
   "outputs": [
    {
     "data": {
      "text/plain": [
       "\n",
       "Call:\n",
       "lm(formula = d$Children ~ 1 + d$Direction2 + d$Block + d$SameSide + \n",
       "    d$Pedestrians + as.factor(d$DayofWeek))\n",
       "\n",
       "Residuals:\n",
       "     Min       1Q   Median       3Q      Max \n",
       "-0.21066 -0.00097  0.00029  0.00858  0.86717 \n",
       "\n",
       "Coefficients: (4 not defined because of singularities)\n",
       "                         Estimate Std. Error t value Pr(>|t|)    \n",
       "(Intercept)              0.138342   0.022007   6.286 5.82e-10 ***\n",
       "d$Direction2n           -0.142323   0.027661  -5.145 3.50e-07 ***\n",
       "d$Direction2s           -0.148317   0.027573  -5.379 1.03e-07 ***\n",
       "d$Direction2w           -0.011577   0.013007  -0.890  0.37375    \n",
       "d$BlockCA-C-0717-1940   -0.164959   0.033102  -4.983 7.94e-07 ***\n",
       "d$BlockCA-D-0718-1710   -0.005314   0.030501  -0.174  0.86174    \n",
       "d$BlockCA-D-0718-1740   -0.018752   0.026462  -0.709  0.47879    \n",
       "d$BlockCA-D-0718-1810   -0.009549   0.030573  -0.312  0.75489    \n",
       "d$BlockCA-D-0718-1840   -0.017220   0.027798  -0.619  0.53581    \n",
       "d$BlockCA-D-0718-1910   -0.014457   0.031979  -0.452  0.65136    \n",
       "d$BlockNJ-E-0722-1500    0.081436   0.023587   3.453  0.00059 ***\n",
       "d$BlockNJ-E-0722-1520   -0.025392   0.025911  -0.980  0.32745    \n",
       "d$BlockNJ-E-0722-1540   -0.009910   0.024986  -0.397  0.69177    \n",
       "d$BlockNJ-E-0722-1600   -0.015213   0.022526  -0.675  0.49968    \n",
       "d$BlockNJ-F-0722-1620   -0.143824   0.029723  -4.839 1.62e-06 ***\n",
       "d$BlockNJ-F-0722-1640   -0.154272   0.027804  -5.549 4.13e-08 ***\n",
       "d$BlockNJ-F-0722-1700   -0.152305   0.030071  -5.065 5.27e-07 ***\n",
       "d$BlockOR-A-0701-1400   -0.004354   0.021174  -0.206  0.83713    \n",
       "d$BlockOR-A-0701-1500          NA         NA      NA       NA    \n",
       "d$BlockOR-B-0709-1400   -0.138001   0.024084  -5.730 1.51e-08 ***\n",
       "d$BlockOR-B-0709-1500   -0.137984   0.023612  -5.844 7.93e-09 ***\n",
       "d$SameSide               0.010945   0.008951   1.223  0.22185    \n",
       "d$Pedestrians            0.061372   0.012076   5.082 4.84e-07 ***\n",
       "as.factor(d$DayofWeek)2        NA         NA      NA       NA    \n",
       "as.factor(d$DayofWeek)3        NA         NA      NA       NA    \n",
       "as.factor(d$DayofWeek)7        NA         NA      NA       NA    \n",
       "---\n",
       "Signif. codes:  0 '***' 0.001 '**' 0.01 '*' 0.05 '.' 0.1 ' ' 1\n",
       "\n",
       "Residual standard error: 0.1106 on 677 degrees of freedom\n",
       "Multiple R-squared:  0.1603,\tAdjusted R-squared:  0.1343 \n",
       "F-statistic: 6.155 on 21 and 677 DF,  p-value: 7.388e-16\n"
      ]
     },
     "metadata": {},
     "output_type": "display_data"
    }
   ],
   "source": [
    "# check if our randomization worked\n",
    "no_cov <-lm(d$Children ~ 1, data = d)\n",
    "cov_check <- lm(d$Children ~ 1 + d$Direction2 + d$Block + d$SameSide + d$Pedestrians + as.factor(d$DayofWeek))\n",
    "\n",
    "summary(cov_check)"
   ]
  },
  {
   "cell_type": "markdown",
   "metadata": {},
   "source": [
    "# Cluster Analysis with Blocks"
   ]
  },
  {
   "cell_type": "code",
   "execution_count": 8,
   "metadata": {
    "collapsed": false
   },
   "outputs": [
    {
     "data": {
      "text/plain": [
       "\n",
       "t test of coefficients:\n",
       "\n",
       "                      Estimate Std. Error t value  Pr(>|t|)    \n",
       "(Intercept)           28.42843    0.89032 31.9307 < 2.2e-16 ***\n",
       "d$Treatment           -1.55878    0.30999 -5.0285 6.342e-07 ***\n",
       "d$Direction2n         -0.86971    1.13816 -0.7641   0.44505    \n",
       "d$Direction2s         -1.11976    1.25625 -0.8913   0.37306    \n",
       "d$Direction2w         -0.85460    0.62848 -1.3598   0.17435    \n",
       "d$BlockCA-C-0717-1940 -0.82048    0.81719 -1.0040   0.31573    \n",
       "d$BlockCA-D-0718-1710  1.73614    1.64797  1.0535   0.29249    \n",
       "d$BlockCA-D-0718-1740  2.09897    0.84853  2.4737   0.01362 *  \n",
       "d$BlockCA-D-0718-1810  1.94486    1.09092  1.7828   0.07507 .  \n",
       "d$BlockCA-D-0718-1840  0.63291    1.32914  0.4762   0.63410    \n",
       "d$BlockCA-D-0718-1910  0.46190    1.34813  0.3426   0.73199    \n",
       "d$BlockNJ-E-0722-1500 -0.53066    1.22745 -0.4323   0.66564    \n",
       "d$BlockNJ-E-0722-1520  2.19191    0.97330  2.2520   0.02464 *  \n",
       "d$BlockNJ-E-0722-1540  1.55489    0.79330  1.9600   0.05040 .  \n",
       "d$BlockNJ-E-0722-1600  1.48799    0.88671  1.6781   0.09379 .  \n",
       "d$BlockNJ-F-0722-1620  1.99490    0.83262  2.3959   0.01685 *  \n",
       "d$BlockNJ-F-0722-1640 -0.16845    1.08534 -0.1552   0.87670    \n",
       "d$BlockNJ-F-0722-1700 -0.42958    1.11881 -0.3840   0.70113    \n",
       "d$BlockOR-A-0701-1400 -0.74118    0.79958 -0.9270   0.35428    \n",
       "d$BlockOR-B-0709-1400  0.77878    0.95568  0.8149   0.41542    \n",
       "d$BlockOR-B-0709-1500  0.22532    0.83393  0.2702   0.78710    \n",
       "d$SameSide            -0.14228    0.36973 -0.3848   0.70049    \n",
       "d$Children            -3.36877    0.80590 -4.1801 3.297e-05 ***\n",
       "d$Pedestrians         -1.37379    0.63927 -2.1490   0.03199 *  \n",
       "---\n",
       "Signif. codes:  0 '***' 0.001 '**' 0.01 '*' 0.05 '.' 0.1 ' ' 1\n"
      ]
     },
     "metadata": {},
     "output_type": "display_data"
    }
   ],
   "source": [
    "fit <- lm(d$Speed ~ d$Treatment + d$Direction2 + d$Block + d$SameSide + d$Children + d$Pedestrians + as.factor(d$DayofWeek), d)\n",
    "fit$cluster.vcov <- cluster.vcov(fit, ~ d$Cluster)\n",
    "\n",
    "fit_cl <- coeftest(fit, fit$cluster.vcov)\n",
    "fit_cl"
   ]
  },
  {
   "cell_type": "markdown",
   "metadata": {},
   "source": [
    "It looks like speed decreases with a sign, but decreases almost 2x more when children & pedestrians are present. Let's look at the interaction between children & pedestrians and the treatment."
   ]
  },
  {
   "cell_type": "code",
   "execution_count": 9,
   "metadata": {
    "collapsed": false
   },
   "outputs": [
    {
     "data": {
      "text/plain": [
       "\n",
       "t test of coefficients:\n",
       "\n",
       "                           Estimate Std. Error t value  Pr(>|t|)    \n",
       "(Intercept)               28.551608   1.100830 25.9364 < 2.2e-16 ***\n",
       "d$Treatment               -1.228569   0.369475 -3.3252 0.0009316 ***\n",
       "d$Children                -4.173981   1.233789 -3.3831 0.0007584 ***\n",
       "d$Pedestrians             -0.533554   0.707197 -0.7545 0.4508353    \n",
       "d$Direction2n             -1.104755   1.352450 -0.8169 0.4143003    \n",
       "d$Direction2s             -1.365719   1.475442 -0.9256 0.3549683    \n",
       "d$Direction2w             -0.839789   0.620264 -1.3539 0.1762155    \n",
       "d$BlockCA-C-0717-1940     -0.962331   1.038360 -0.9268 0.3543730    \n",
       "d$BlockCA-D-0718-1710      1.613995   1.650825  0.9777 0.3285788    \n",
       "d$BlockCA-D-0718-1740      2.144174   0.966898  2.2176 0.0269166 *  \n",
       "d$BlockCA-D-0718-1810      2.094070   1.211016  1.7292 0.0842348 .  \n",
       "d$BlockCA-D-0718-1840      0.367202   1.367316  0.2686 0.7883531    \n",
       "d$BlockCA-D-0718-1910      0.495236   1.459575  0.3393 0.7344887    \n",
       "d$BlockNJ-E-0722-1500     -0.797180   1.272587 -0.6264 0.5312491    \n",
       "d$BlockNJ-E-0722-1520      2.084215   1.002900  2.0782 0.0380705 *  \n",
       "d$BlockNJ-E-0722-1540      1.625676   0.895791  1.8148 0.0700007 .  \n",
       "d$BlockNJ-E-0722-1600      1.466815   0.997103  1.4711 0.1417378    \n",
       "d$BlockNJ-F-0722-1620      1.700392   1.045199  1.6269 0.1042352    \n",
       "d$BlockNJ-F-0722-1640     -0.639472   1.193587 -0.5358 0.5923038    \n",
       "d$BlockNJ-F-0722-1700     -0.679261   1.323473 -0.5132 0.6079509    \n",
       "d$BlockOR-A-0701-1400     -0.757352   0.914961 -0.8277 0.4081103    \n",
       "d$BlockOR-B-0709-1400      0.463164   1.109613  0.4174 0.6765115    \n",
       "d$BlockOR-B-0709-1500     -0.056168   1.049175 -0.0535 0.9573214    \n",
       "d$SameSide                -0.180262   0.359420 -0.5015 0.6161584    \n",
       "d$Treatment:d$Children     1.862453   1.747495  1.0658 0.2869032    \n",
       "d$Treatment:d$Pedestrians -1.963480   1.052354 -1.8658 0.0625046 .  \n",
       "---\n",
       "Signif. codes:  0 '***' 0.001 '**' 0.01 '*' 0.05 '.' 0.1 ' ' 1\n"
      ]
     },
     "metadata": {},
     "output_type": "display_data"
    }
   ],
   "source": [
    "fit_int <- lm(d$Speed ~ d$Treatment*d$Children*d$Pedestrians + d$Direction2 + d$Block + d$SameSide + as.factor(d$DayofWeek), d)\n",
    "fit_int$cluster.vcov <- cluster.vcov(fit_int, ~ d$Cluster)\n",
    "\n",
    "fit_int_cl <- coeftest(fit_int, fit_int$cluster.vcov)\n",
    "fit_int_cl"
   ]
  },
  {
   "cell_type": "code",
   "execution_count": 10,
   "metadata": {
    "collapsed": false
   },
   "outputs": [
    {
     "data": {
      "text/html": [
       "<table>\n",
       "<thead><tr><th scope=col>Res.Df</th><th scope=col>RSS</th><th scope=col>Df</th><th scope=col>Sum of Sq</th><th scope=col>Pr(&gt;Chi)</th></tr></thead>\n",
       "<tbody>\n",
       "\t<tr><td>675       </td><td>10671.91  </td><td>NA        </td><td>      NA  </td><td>        NA</td></tr>\n",
       "\t<tr><td>673       </td><td>10589.15  </td><td> 2        </td><td>82.75846  </td><td>0.07208698</td></tr>\n",
       "</tbody>\n",
       "</table>\n"
      ],
      "text/latex": [
       "\\begin{tabular}{r|lllll}\n",
       " Res.Df & RSS & Df & Sum of Sq & Pr(>Chi)\\\\\n",
       "\\hline\n",
       "\t 675        & 10671.91   & NA         &       NA   &         NA\\\\\n",
       "\t 673        & 10589.15   &  2         & 82.75846   & 0.07208698\\\\\n",
       "\\end{tabular}\n"
      ],
      "text/markdown": [
       "\n",
       "Res.Df | RSS | Df | Sum of Sq | Pr(>Chi) | \n",
       "|---|---|\n",
       "| 675        | 10671.91   | NA         |       NA   |         NA | \n",
       "| 673        | 10589.15   |  2         | 82.75846   | 0.07208698 | \n",
       "\n",
       "\n"
      ],
      "text/plain": [
       "  Res.Df RSS      Df Sum of Sq Pr(>Chi)  \n",
       "1 675    10671.91 NA       NA          NA\n",
       "2 673    10589.15  2 82.75846  0.07208698"
      ]
     },
     "metadata": {},
     "output_type": "display_data"
    }
   ],
   "source": [
    "#compare whether model with interaction vs without are different\n",
    "anova(fit, fit_int, test = \"LRT\")"
   ]
  },
  {
   "cell_type": "markdown",
   "metadata": {},
   "source": [
    "Interestingly, it looks like there is not a significant heterogenous treatment effect due to the presence of children and pedestrians, and our treatment!"
   ]
  },
  {
   "cell_type": "markdown",
   "metadata": {},
   "source": [
    "One other possible interaction could be with the area that we measured data in. This is generally accounted for with our blocks, but we might see bigger or smaller treatment effects by location. Let's take a look at that. Note: since we determined above that there is not an interaction between the presence of children or pedetrians with the treatment, we are going back to accounting for those as separate factors."
   ]
  },
  {
   "cell_type": "code",
   "execution_count": 18,
   "metadata": {
    "collapsed": false
   },
   "outputs": [
    {
     "data": {
      "text/plain": [
       "\n",
       "t test of coefficients:\n",
       "\n",
       "                       Estimate Std. Error t value  Pr(>|t|)    \n",
       "(Intercept)            27.86753    0.70845 39.3362 < 2.2e-16 ***\n",
       "d$Treatment            -0.53245    0.64043 -0.8314 0.4060496    \n",
       "d$CityIDNJ              0.36414    1.16914  0.3115 0.7555486    \n",
       "d$CityIDOR              0.78511    0.63419  1.2380 0.2161560    \n",
       "d$Children             -2.74078    0.73065 -3.7512 0.0001912 ***\n",
       "d$Pedestrians          -1.44699    0.61839 -2.3399 0.0195781 *  \n",
       "d$Direction2n          -1.09164    0.81455 -1.3402 0.1806427    \n",
       "d$Direction2s          -1.32170    0.92574 -1.4277 0.1538365    \n",
       "d$Direction2w          -0.83062    0.63291 -1.3124 0.1898397    \n",
       "d$BlockCA-C-0717-1940  -0.69474    0.70208 -0.9895 0.3227536    \n",
       "d$BlockCA-D-0718-1710   2.00449    1.43504  1.3968 0.1629303    \n",
       "d$BlockCA-D-0718-1740   2.34403    0.95678  2.4499 0.0145424 *  \n",
       "d$BlockCA-D-0718-1810   2.49921    1.06091  2.3557 0.0187729 *  \n",
       "d$BlockCA-D-0718-1840   0.91132    1.70408  0.5348 0.5929723    \n",
       "d$BlockCA-D-0718-1910   0.80219    1.14627  0.6998 0.4842760    \n",
       "d$BlockNJ-E-0722-1500   0.13448    1.47641  0.0911 0.9274510    \n",
       "d$BlockNJ-E-0722-1520   2.76406    1.32352  2.0884 0.0371357 *  \n",
       "d$BlockNJ-E-0722-1540   2.64164    1.40105  1.8855 0.0597971 .  \n",
       "d$BlockNJ-E-0722-1600   2.16050    1.42502  1.5161 0.1299594    \n",
       "d$BlockNJ-F-0722-1620   2.84818    1.20060  2.3723 0.0179577 *  \n",
       "d$BlockNJ-F-0722-1640   0.65673    1.27808  0.5138 0.6075339    \n",
       "d$BlockOR-A-0701-1400  -0.73188    0.79057 -0.9258 0.3549046    \n",
       "d$BlockOR-B-0709-1400   0.55640    0.46366  1.2000 0.2305492    \n",
       "d$SameSide             -0.14337    0.36851 -0.3891 0.6973613    \n",
       "d$Treatment:d$CityIDNJ -1.83773    0.94540 -1.9439 0.0523267 .  \n",
       "d$Treatment:d$CityIDOR -1.04920    0.75930 -1.3818 0.1674912    \n",
       "---\n",
       "Signif. codes:  0 '***' 0.001 '**' 0.01 '*' 0.05 '.' 0.1 ' ' 1\n"
      ]
     },
     "metadata": {},
     "output_type": "display_data"
    }
   ],
   "source": [
    "fit_city <- lm(d$Speed ~ d$Treatment*d$CityID + d$Children + d$Pedestrians + d$Direction2 + d$Block + d$SameSide + as.factor(d$DayofWeek), d)\n",
    "fit_city$cluster.vcov <- cluster.vcov(fit_loc, ~ d$Cluster)\n",
    "\n",
    "fit_city_cl <- coeftest(fit_city, fit_city$cluster.vcov)\n",
    "fit_city_cl"
   ]
  },
  {
   "cell_type": "code",
   "execution_count": 19,
   "metadata": {
    "collapsed": false
   },
   "outputs": [
    {
     "data": {
      "text/plain": [
       "\n",
       "t test of coefficients:\n",
       "\n",
       "                        Estimate Std. Error t value  Pr(>|t|)    \n",
       "(Intercept)             27.93929    0.52663 53.0534 < 2.2e-16 ***\n",
       "d$Treatment             -2.82297    0.43043 -6.5585 1.087e-10 ***\n",
       "d$LocationB              0.37721    0.66375  0.5683 0.5700206    \n",
       "d$LocationC             -0.15980    0.81494 -0.1961 0.8446009    \n",
       "d$LocationD             -0.55449    0.92283 -0.6009 0.5481378    \n",
       "d$LocationE              1.20505    0.76920  1.5666 0.1176728    \n",
       "d$LocationF              0.18182    1.13242  0.1606 0.8724889    \n",
       "d$Children              -2.59938    0.72966 -3.5625 0.0003934 ***\n",
       "d$Pedestrians           -1.42607    0.62787 -2.2713 0.0234470 *  \n",
       "d$Direction2n            0.25608    0.55448  0.4618 0.6443421    \n",
       "d$Direction2w           -0.88549    0.62843 -1.4090 0.1592859    \n",
       "d$BlockCA-C-0717-1940   -0.66205    0.72550 -0.9125 0.3618125    \n",
       "d$BlockCA-D-0718-1710    1.20450    1.34781  0.8937 0.3718195    \n",
       "d$BlockCA-D-0718-1740    1.54792    0.73467  2.1070 0.0354923 *  \n",
       "d$BlockCA-D-0718-1810    1.68227    0.87509  1.9224 0.0549785 .  \n",
       "d$BlockCA-D-0718-1840    0.11566    1.57962  0.0732 0.9416531    \n",
       "d$BlockNJ-E-0722-1500   -2.03136    0.95513 -2.1268 0.0338022 *  \n",
       "d$BlockNJ-E-0722-1520    0.56253    0.72028  0.7810 0.4350861    \n",
       "d$BlockNJ-E-0722-1540    0.62398    0.91404  0.6827 0.4950529    \n",
       "d$BlockNJ-F-0722-1620    2.57240    1.23597  2.0813 0.0377881 *  \n",
       "d$BlockNJ-F-0722-1640    0.40469    1.43806  0.2814 0.7784817    \n",
       "d$BlockOR-A-0701-1400   -0.60395    0.41849 -1.4431 0.1494488    \n",
       "d$BlockOR-B-0709-1400    0.48003    0.27832  1.7248 0.0850325 .  \n",
       "d$SameSide              -0.16598    0.36860 -0.4503 0.6526477    \n",
       "d$Treatment:d$LocationB  1.97337    0.50895  3.8773 0.0001160 ***\n",
       "d$Treatment:d$LocationC  2.49078    0.82218  3.0295 0.0025440 ** \n",
       "d$Treatment:d$LocationD  2.20452    0.95514  2.3081 0.0212997 *  \n",
       "d$Treatment:d$LocationE  0.18113    0.93486  0.1938 0.8464301    \n",
       "d$Treatment:d$LocationF  0.97038    1.22587  0.7916 0.4288823    \n",
       "---\n",
       "Signif. codes:  0 '***' 0.001 '**' 0.01 '*' 0.05 '.' 0.1 ' ' 1\n"
      ]
     },
     "metadata": {},
     "output_type": "display_data"
    }
   ],
   "source": [
    "fit_loc <- lm(d$Speed ~ d$Treatment*d$Location + d$Children + d$Pedestrians + d$Direction2 + d$Block + d$SameSide + as.factor(d$DayofWeek), d)\n",
    "fit_loc$cluster.vcov <- cluster.vcov(fit_loc, ~ d$Cluster)\n",
    "\n",
    "fit_loc_cl <- coeftest(fit_loc, fit_loc$cluster.vcov)\n",
    "fit_loc_cl"
   ]
  },
  {
   "cell_type": "code",
   "execution_count": 20,
   "metadata": {
    "collapsed": false
   },
   "outputs": [
    {
     "data": {
      "text/html": [
       "<table>\n",
       "<thead><tr><th scope=col>Res.Df</th><th scope=col>RSS</th><th scope=col>Df</th><th scope=col>Sum of Sq</th><th scope=col>Pr(&gt;Chi)</th></tr></thead>\n",
       "<tbody>\n",
       "\t<tr><td>675      </td><td>10671.91 </td><td>NA       </td><td>      NA </td><td>       NA</td></tr>\n",
       "\t<tr><td>673      </td><td>10607.21 </td><td> 2       </td><td>64.69776 </td><td>0.1284197</td></tr>\n",
       "</tbody>\n",
       "</table>\n"
      ],
      "text/latex": [
       "\\begin{tabular}{r|lllll}\n",
       " Res.Df & RSS & Df & Sum of Sq & Pr(>Chi)\\\\\n",
       "\\hline\n",
       "\t 675       & 10671.91  & NA        &       NA  &        NA\\\\\n",
       "\t 673       & 10607.21  &  2        & 64.69776  & 0.1284197\\\\\n",
       "\\end{tabular}\n"
      ],
      "text/markdown": [
       "\n",
       "Res.Df | RSS | Df | Sum of Sq | Pr(>Chi) | \n",
       "|---|---|\n",
       "| 675       | 10671.91  | NA        |       NA  |        NA | \n",
       "| 673       | 10607.21  |  2        | 64.69776  | 0.1284197 | \n",
       "\n",
       "\n"
      ],
      "text/plain": [
       "  Res.Df RSS      Df Sum of Sq Pr(>Chi) \n",
       "1 675    10671.91 NA       NA         NA\n",
       "2 673    10607.21  2 64.69776  0.1284197"
      ]
     },
     "metadata": {},
     "output_type": "display_data"
    },
    {
     "data": {
      "text/html": [
       "<table>\n",
       "<thead><tr><th scope=col>Res.Df</th><th scope=col>RSS</th><th scope=col>Df</th><th scope=col>Sum of Sq</th><th scope=col>Pr(&gt;Chi)</th></tr></thead>\n",
       "<tbody>\n",
       "\t<tr><td>675      </td><td>10671.91 </td><td>NA       </td><td>     NA  </td><td>       NA</td></tr>\n",
       "\t<tr><td>670      </td><td>10534.27 </td><td> 5       </td><td>137.645  </td><td>0.1192664</td></tr>\n",
       "</tbody>\n",
       "</table>\n"
      ],
      "text/latex": [
       "\\begin{tabular}{r|lllll}\n",
       " Res.Df & RSS & Df & Sum of Sq & Pr(>Chi)\\\\\n",
       "\\hline\n",
       "\t 675       & 10671.91  & NA        &      NA   &        NA\\\\\n",
       "\t 670       & 10534.27  &  5        & 137.645   & 0.1192664\\\\\n",
       "\\end{tabular}\n"
      ],
      "text/markdown": [
       "\n",
       "Res.Df | RSS | Df | Sum of Sq | Pr(>Chi) | \n",
       "|---|---|\n",
       "| 675       | 10671.91  | NA        |      NA   |        NA | \n",
       "| 670       | 10534.27  |  5        | 137.645   | 0.1192664 | \n",
       "\n",
       "\n"
      ],
      "text/plain": [
       "  Res.Df RSS      Df Sum of Sq Pr(>Chi) \n",
       "1 675    10671.91 NA      NA          NA\n",
       "2 670    10534.27  5 137.645   0.1192664"
      ]
     },
     "metadata": {},
     "output_type": "display_data"
    }
   ],
   "source": [
    "#for city, compare whether model with interaction vs without are different\n",
    "anova(fit, fit_city, test = \"LRT\")\n",
    "\n",
    "#for location, compare whether model with interaction vs without are different\n",
    "anova(fit, fit_loc, test = \"LRT\")"
   ]
  },
  {
   "cell_type": "markdown",
   "metadata": {},
   "source": [
    "# 85th Percentile Analysis\n",
    "\n",
    "We are going to compare our data against the Federal Highway Administration Data, which uses the 85th percentile as a metric. So we need to calculate our % change (between treatment and control) at the 85th percentile levels instead of at the average. "
   ]
  },
  {
   "cell_type": "code",
   "execution_count": 11,
   "metadata": {
    "collapsed": false
   },
   "outputs": [
    {
     "data": {
      "image/png": "[encoded data removed]",
      "text/plain": [
       "plot without title"
      ]
     },
     "metadata": {},
     "output_type": "display_data"
    }
   ],
   "source": [
    "# Predict based on normal distribution what the 85th percentile is for our model\n",
    "boxplot(d$Speed~d$Treatment+d$Location,\n",
    "        data=d,\n",
    "        quantile=c(0.85),\n",
    "        abline=quantile(d$Speed, c(0.85)),\n",
    "        labels=c(\"Speed\",\"Cluster\"), \n",
    "        par(mar = c(12, 5, 4, 2)+ 0.1), \n",
    "        las = 2, \n",
    "        col=c(\"red\",\"green\",\"red\",\"green\",\"red\",\"green\",\"red\",\"green\",\"red\",\"green\",\"red\",\"green\"), \n",
    "        xlab =\"Group + Treatment\", ylab =\"Speed\")"
   ]
  },
  {
   "cell_type": "code",
   "execution_count": 12,
   "metadata": {
    "collapsed": false
   },
   "outputs": [
    {
     "data": {
      "text/html": [
       "<dl class=dl-horizontal>\n",
       "\t<dt>0.A.85%</dt>\n",
       "\t\t<dd>31</dd>\n",
       "\t<dt>1.A.85%</dt>\n",
       "\t\t<dd>28</dd>\n",
       "\t<dt>0.B.85%</dt>\n",
       "\t\t<dd>31</dd>\n",
       "\t<dt>1.B.85%</dt>\n",
       "\t\t<dd>31</dd>\n",
       "\t<dt>0.C.85%</dt>\n",
       "\t\t<dd>30</dd>\n",
       "\t<dt>1.C.85%</dt>\n",
       "\t\t<dd>29.85</dd>\n",
       "\t<dt>0.D.85%</dt>\n",
       "\t\t<dd>32</dd>\n",
       "\t<dt>1.D.85%</dt>\n",
       "\t\t<dd>32</dd>\n",
       "\t<dt>0.E.85%</dt>\n",
       "\t\t<dd>32</dd>\n",
       "\t<dt>1.E.85%</dt>\n",
       "\t\t<dd>29.7</dd>\n",
       "\t<dt>0.F.85%</dt>\n",
       "\t\t<dd>30.5</dd>\n",
       "\t<dt>1.F.85%</dt>\n",
       "\t\t<dd>31.9</dd>\n",
       "</dl>\n"
      ],
      "text/latex": [
       "\\begin{description*}\n",
       "\\item[0.A.85\\textbackslash{}\\%] 31\n",
       "\\item[1.A.85\\textbackslash{}\\%] 28\n",
       "\\item[0.B.85\\textbackslash{}\\%] 31\n",
       "\\item[1.B.85\\textbackslash{}\\%] 31\n",
       "\\item[0.C.85\\textbackslash{}\\%] 30\n",
       "\\item[1.C.85\\textbackslash{}\\%] 29.85\n",
       "\\item[0.D.85\\textbackslash{}\\%] 32\n",
       "\\item[1.D.85\\textbackslash{}\\%] 32\n",
       "\\item[0.E.85\\textbackslash{}\\%] 32\n",
       "\\item[1.E.85\\textbackslash{}\\%] 29.7\n",
       "\\item[0.F.85\\textbackslash{}\\%] 30.5\n",
       "\\item[1.F.85\\textbackslash{}\\%] 31.9\n",
       "\\end{description*}\n"
      ],
      "text/markdown": [
       "0.A.85%\n",
       ":   311.A.85%\n",
       ":   280.B.85%\n",
       ":   311.B.85%\n",
       ":   310.C.85%\n",
       ":   301.C.85%\n",
       ":   29.850.D.85%\n",
       ":   321.D.85%\n",
       ":   320.E.85%\n",
       ":   321.E.85%\n",
       ":   29.70.F.85%\n",
       ":   30.51.F.85%\n",
       ":   31.9\n",
       "\n"
      ],
      "text/plain": [
       "0.A.85% 1.A.85% 0.B.85% 1.B.85% 0.C.85% 1.C.85% 0.D.85% 1.D.85% 0.E.85% 1.E.85% \n",
       "  31.00   28.00   31.00   31.00   30.00   29.85   32.00   32.00   32.00   29.70 \n",
       "0.F.85% 1.F.85% \n",
       "  30.50   31.90 "
      ]
     },
     "metadata": {},
     "output_type": "display_data"
    }
   ],
   "source": [
    "quants <- sapply(split(d$Speed, list(d$Treatment,d$Location)),\n",
    "                 quantile, probs = c(0.85))\n",
    "quants"
   ]
  },
  {
   "cell_type": "code",
   "execution_count": null,
   "metadata": {
    "collapsed": true
   },
   "outputs": [],
   "source": []
  }
 ],
 "metadata": {
  "anaconda-cloud": {},
  "kernelspec": {
   "display_name": "R [conda env:py3]",
   "language": "R",
   "name": "conda-env-py3-r"
  },
  "language_info": {
   "codemirror_mode": "r",
   "file_extension": ".r",
   "mimetype": "text/x-r-source",
   "name": "R",
   "pygments_lexer": "r",
   "version": "3.3.2"
  }
 },
 "nbformat": 4,
 "nbformat_minor": 2
}
